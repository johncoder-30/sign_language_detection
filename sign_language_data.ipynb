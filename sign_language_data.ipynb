{
 "cells": [
  {
   "cell_type": "code",
   "execution_count": 1,
   "metadata": {
    "pycharm": {
     "name": "#%%\n"
    }
   },
   "outputs": [],
   "source": [
    "import os\n",
    "import cv2\n",
    "import time\n",
    "import numpy as np\n",
    "import mediapipe as mp\n",
    "import matplotlib.pyplot as plt"
   ]
  },
  {
   "cell_type": "code",
   "execution_count": 2,
   "metadata": {
    "pycharm": {
     "name": "#%%\n"
    }
   },
   "outputs": [],
   "source": [
    "# First step is to initialize the Hands class an store it in a variable\n",
    "mp_hands = mp.solutions.hands\n",
    "\n",
    "# Now second step is to set the hands function which will hold the landmarks points\n",
    "hands = mp_hands.Hands(static_image_mode=False, max_num_hands=2, min_detection_confidence=0.3)\n",
    "\n",
    "# Last step is to set up the drawing function of hands landmarks on the image\n",
    "mp_drawing = mp.solutions.drawing_utils"
   ]
  },
  {
   "cell_type": "code",
   "execution_count": null,
   "metadata": {
    "collapsed": false,
    "pycharm": {
     "name": "#%%\n"
    }
   },
   "outputs": [],
   "source": [
    "sample_img = cv2.imread('hand_detection/hand_detect/hand_0.png')\n",
    "results = hands.process(cv2.cvtColor(sample_img, cv2.COLOR_BGR2RGB))\n",
    "\n",
    "if results.multi_hand_landmarks:\n",
    "\n",
    "    for hand_no, hand_landmarks in enumerate(results.multi_hand_landmarks):\n",
    "        print(f'HAND NUMBER: {hand_no + 1}')\n",
    "        print('-----------------------')\n",
    "\n",
    "        for i in range(21):\n",
    "            print(f'{mp_hands.HandLandmark(i).name}:')\n",
    "            print(f'{hand_landmarks.landmark[mp_hands.HandLandmark(i).value]}')"
   ]
  },
  {
   "cell_type": "code",
   "execution_count": null,
   "metadata": {
    "collapsed": false,
    "pycharm": {
     "name": "#%%\n"
    }
   },
   "outputs": [],
   "source": [
    "image_height, image_width, _ = sample_img.shape\n",
    "\n",
    "if results.multi_hand_landmarks:\n",
    "\n",
    "    for hand_no, hand_landmarks in enumerate(results.multi_hand_landmarks):\n",
    "\n",
    "        print(f'HAND NUMBER: {hand_no + 1}')\n",
    "        print('-----------------------')\n",
    "\n",
    "        for i in range(2):\n",
    "            print(f'{mp_hands.HandLandmark(i).name}:')\n",
    "            print(f'x: {hand_landmarks.landmark[mp_hands.HandLandmark(i).value].x * image_width}')\n",
    "            print(f'y: {hand_landmarks.landmark[mp_hands.HandLandmark(i).value].y * image_height}')\n",
    "            print(f'z: {hand_landmarks.landmark[mp_hands.HandLandmark(i).value].z * image_width}n')"
   ]
  },
  {
   "cell_type": "code",
   "execution_count": null,
   "metadata": {
    "collapsed": false,
    "pycharm": {
     "name": "#%%\n"
    }
   },
   "outputs": [],
   "source": [
    "img_copy = sample_img.copy()\n",
    "\n",
    "if results.multi_hand_landmarks:\n",
    "\n",
    "    for hand_no, hand_landmarks in enumerate(results.multi_hand_landmarks):\n",
    "        mp_drawing.draw_landmarks(image=img_copy, landmark_list=hand_landmarks,\n",
    "                                  connections=mp_hands.HAND_CONNECTIONS)\n",
    "    fig = plt.figure(figsize=[10, 10])\n",
    "\n",
    "    plt.title(\"Resultant Image\");\n",
    "    plt.axis('off');\n",
    "    plt.imshow(img_copy[:, :, ::-1]);\n",
    "    plt.show()"
   ]
  },
  {
   "cell_type": "code",
   "execution_count": null,
   "metadata": {
    "collapsed": false,
    "pycharm": {
     "name": "#%%\n"
    }
   },
   "outputs": [],
   "source": [
    "dirs=['hello','bye','yes','no']\n",
    "# # os.mkdir('sign_data')\n",
    "# for i in dirs:\n",
    "#     os.mkdir(f'sign_data/{i}')\n"
   ]
  },
  {
   "cell_type": "code",
   "execution_count": null,
   "metadata": {
    "collapsed": false,
    "pycharm": {
     "name": "#%%\n"
    }
   },
   "outputs": [],
   "source": [
    "capture = cv2.VideoCapture(0)\n",
    "for folder in [5]:    \n",
    "    for sample in range(10):\n",
    "        file=open(f'sign_data/{dirs[folder]}/{dirs[folder]}{sample}.txt','a')\n",
    "        time.sleep(2)\n",
    "        istrue, frame = capture.read()\n",
    "        results = hands.process(cv2.cvtColor(frame, cv2.COLOR_BGR2RGB))\n",
    "        cv2.imshow('hand_landmark',frame)\n",
    "        if results.multi_hand_landmarks:\n",
    "            print(f'data for {dirs[folder]} image:{sample}')\n",
    "            for hand_no, hand_landmarks in enumerate(results.multi_hand_landmarks):\n",
    "                \n",
    "                for k in range(21):\n",
    "                    file.write(str(hand_landmarks.landmark[mp_hands.HandLandmark(k).value].x * image_width))\n",
    "                    file.write(',')\n",
    "                    file.write(str(hand_landmarks.landmark[mp_hands.HandLandmark(k).value].y * image_width))\n",
    "                    file.write('\\n')\n",
    "        file.flush()\n",
    "        file.close()\n",
    "        \n",
    "capture.release()\n",
    "cv2.destroyAllWindows()"
   ]
  },
  {
   "cell_type": "code",
   "execution_count": null,
   "metadata": {
    "collapsed": false,
    "pycharm": {
     "name": "#%%\n"
    }
   },
   "outputs": [],
   "source": [
    "capture.release()\n",
    "cv2.destroyAllWindows()"
   ]
  },
  {
   "cell_type": "code",
   "execution_count": null,
   "metadata": {
    "collapsed": false,
    "pycharm": {
     "name": "#%%\n"
    }
   },
   "outputs": [],
   "source": []
  },
  {
   "cell_type": "code",
   "execution_count": 13,
   "metadata": {
    "pycharm": {
     "name": "#%%\n"
    }
   },
   "outputs": [],
   "source": [
    "capture.release()\n",
    "cv2.destroyAllWindows()"
   ]
  },
  {
   "cell_type": "code",
   "execution_count": null,
   "metadata": {
    "pycharm": {
     "name": "#%%\n"
    }
   },
   "outputs": [],
   "source": []
  }
 ],
 "metadata": {
  "kernelspec": {
   "display_name": "Python 3.9.12 ('pytorch_gpu')",
   "language": "python",
   "name": "python3"
  },
  "language_info": {
   "codemirror_mode": {
    "name": "ipython",
    "version": 3
   },
   "file_extension": ".py",
   "mimetype": "text/x-python",
   "name": "python",
   "nbconvert_exporter": "python",
   "pygments_lexer": "ipython3",
   "version": "3.9.12"
  },
  "orig_nbformat": 4,
  "vscode": {
   "interpreter": {
    "hash": "7b57cbe78fda32f2c984a83a6d519289554683c0446b0b76f1107a21b9bb4ebe"
   }
  }
 },
 "nbformat": 4,
 "nbformat_minor": 2
}
