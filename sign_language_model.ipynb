{
 "cells": [
  {
   "cell_type": "code",
   "execution_count": null,
   "outputs": [],
   "source": [
    "import os\n",
    "import torch\n",
    "import torch.nn as nn\n",
    "from torch.utils.data import DataLoader,Dataset"
   ],
   "metadata": {
    "collapsed": false,
    "pycharm": {
     "name": "#%%\n"
    }
   }
  },
  {
   "cell_type": "code",
   "execution_count": null,
   "outputs": [],
   "source": [
    "folders=os.listdir('./sign_data')"
   ],
   "metadata": {
    "collapsed": false,
    "pycharm": {
     "name": "#%%\n"
    }
   }
  },
  {
   "cell_type": "code",
   "execution_count": null,
   "outputs": [],
   "source": [
    "class Data(Dataset):\n",
    "    def __init__(self,path) -> None:\n",
    "        super().__init__()\n",
    "        self.path=path\n",
    "\n",
    "    def __len__(self):\n",
    "        return 40\n",
    "\n",
    "    def __getitem__(self, index):\n",
    "        fol=index//10\n",
    "        file_no=index%10\n",
    "        files=os.listdir(f'{self.path}/{folders[fol]}')\n",
    "        sel_file=open(f'{self.path}/{folders[fol]}/{files[file_no]}')\n",
    "        data=[]\n",
    "        read_val=sel_file.read().splitlines()\n",
    "        for i in read_val:\n",
    "            x,y=i.split(',')\n",
    "            data.append(float(x))\n",
    "            data.append(float(y))\n",
    "\n",
    "        return torch.FloatTensor(data),torch.FloatTensor([fol])\n"
   ],
   "metadata": {
    "collapsed": false,
    "pycharm": {
     "name": "#%%\n"
    }
   }
  },
  {
   "cell_type": "code",
   "execution_count": null,
   "outputs": [],
   "source": [
    "dataset=Data('sign_data')\n",
    "torch.set_printoptions(precision=8)\n",
    "# a=iter(dataset)\n",
    "# print(next(a))\n",
    "data_load=DataLoader(dataset,4,True)\n",
    "# b=iter(data_load)\n",
    "# print(next(b))"
   ],
   "metadata": {
    "collapsed": false,
    "pycharm": {
     "name": "#%%\n"
    }
   }
  },
  {
   "cell_type": "code",
   "execution_count": null,
   "outputs": [],
   "source": [
    "class Classifier(nn.Module):\n",
    "    def __init__(self) -> None:\n",
    "        super().__init__()\n",
    "        self.fcn1=nn.Linear(42,64)\n",
    "        self.relu1=nn.ReLU()\n",
    "        self.fcn2=nn.Linear(64,32)\n",
    "        self.relu2=nn.ReLU()\n",
    "        self.fcn3=nn.Linear(32,16)\n",
    "        self.relu3=nn.LeakyReLU()\n",
    "        self.op=nn.Linear(16,4)\n",
    "\n",
    "    def forward(self,x):\n",
    "        out=self.relu1(self.fcn1(x))\n",
    "        out=self.relu2(self.fcn2(out))\n",
    "        out=self.relu3(self.fcn3(out))\n",
    "        return self.op(out)"
   ],
   "metadata": {
    "collapsed": false,
    "pycharm": {
     "name": "#%%\n"
    }
   }
  },
  {
   "cell_type": "code",
   "execution_count": null,
   "outputs": [],
   "source": [
    "model=Classifier()\n",
    "optimizer=torch.optim.Adam(model.parameters(),lr=0.001)\n",
    "criterion=torch.nn.CrossEntropyLoss()\n",
    "epochs=100"
   ],
   "metadata": {
    "collapsed": false,
    "pycharm": {
     "name": "#%%\n"
    }
   }
  },
  {
   "cell_type": "code",
   "execution_count": null,
   "outputs": [],
   "source": [
    "for epoch in range(epochs):\n",
    "    for data,lab in data_load:\n",
    "        pred=model(data)\n",
    "        pred=pred.float()\n",
    "        lab=lab.squeeze().long()\n",
    "        loss=criterion(pred,lab)\n",
    "        loss.backward()\n",
    "        optimizer.step()\n",
    "        optimizer.zero_grad()\n",
    "    if epoch%10==0:\n",
    "        print(epoch+1,loss.item())\n",
    "print(lab,pred)\n"
   ],
   "metadata": {
    "collapsed": false,
    "pycharm": {
     "name": "#%%\n"
    }
   }
  },
  {
   "cell_type": "code",
   "execution_count": 34,
   "metadata": {
    "pycharm": {
     "name": "#%%\n"
    }
   },
   "outputs": [],
   "source": [
    "model=Classifier()\n",
    "optimizer=torch.optim.Adam(model.parameters(),lr=0.001)\n",
    "criterion=torch.nn.CrossEntropyLoss()\n",
    "epochs=100"
   ]
  },
  {
   "cell_type": "code",
   "execution_count": 35,
   "metadata": {},
   "outputs": [
    {
     "name": "stdout",
     "output_type": "stream",
     "text": [
      "1 3.9065873622894287\n",
      "11 1.2105491161346436\n",
      "21 0.9514060020446777\n",
      "31 0.832645058631897\n",
      "41 0.6466946005821228\n",
      "51 0.8020741939544678\n",
      "61 0.4136504530906677\n",
      "71 0.36166706681251526\n",
      "81 0.21816590428352356\n",
      "91 0.48124781250953674\n",
      "tensor([3, 3, 1, 3]) tensor([[ -0.20582674, -14.26582146,  -2.41423154,   1.93054879],\n",
      "        [  1.64984655, -17.55312538,  -3.66293406,   9.86356163],\n",
      "        [  0.07893683,   2.75987315,  -3.53453493, -17.86268997],\n",
      "        [  3.49307537, -15.98340893,  -3.43456841,  12.74787617]],\n",
      "       grad_fn=<AddmmBackward0>)\n"
     ]
    }
   ],
   "source": [
    "for epoch in range(epochs):\n",
    "    for data,lab in data_load:\n",
    "        pred=model(data)\n",
    "        pred=pred.float()\n",
    "        lab=lab.squeeze().long()\n",
    "        loss=criterion(pred,lab)\n",
    "        loss.backward()\n",
    "        optimizer.step()\n",
    "        optimizer.zero_grad()\n",
    "    if epoch%10==0:\n",
    "        print(epoch+1,loss.item())\n",
    "print(lab,pred)\n"
   ]
  },
  {
   "cell_type": "code",
   "execution_count": null,
   "metadata": {},
   "outputs": [],
   "source": []
  }
 ],
 "metadata": {
  "kernelspec": {
   "display_name": "Python 3.9.12 ('pytorch_gpu')",
   "language": "python",
   "name": "python3"
  },
  "language_info": {
   "codemirror_mode": {
    "name": "ipython",
    "version": 3
   },
   "file_extension": ".py",
   "mimetype": "text/x-python",
   "name": "python",
   "nbconvert_exporter": "python",
   "pygments_lexer": "ipython3",
   "version": "3.9.12"
  },
  "orig_nbformat": 4,
  "vscode": {
   "interpreter": {
    "hash": "7b57cbe78fda32f2c984a83a6d519289554683c0446b0b76f1107a21b9bb4ebe"
   }
  }
 },
 "nbformat": 4,
 "nbformat_minor": 2
}